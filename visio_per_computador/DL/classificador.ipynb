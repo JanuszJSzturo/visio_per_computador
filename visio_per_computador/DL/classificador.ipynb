{
  "nbformat": 4,
  "nbformat_minor": 0,
  "metadata": {
    "colab": {
      "name": "VpC.ipynb",
      "provenance": [],
      "toc_visible": true
    },
    "kernelspec": {
      "name": "python3",
      "display_name": "Python 3"
    },
    "accelerator": "GPU"
  },
  "cells": [
    {
      "cell_type": "markdown",
      "metadata": {
        "id": "n9Z6YrFiDJxL"
      },
      "source": [
        "# Deep learning per Visió per Computador\r\n",
        "\r\n",
        "Emprarem com a framework per realitzar aprenentatge profund la llibreria *keras*. Keras és una capa d'abstrecció que va cridant a les funcions d'un *backend*, típicament *Tensorflow*, que té més llibertat alahora de construir una xarxa però una complexitat molt major. \r\n",
        "\r\n",
        "**La primera passa i més important és fer ús d'una GPU o una TPU per realitzar l'entrenament.**\r\n",
        "\r\n",
        "## Classificació\r\n",
        "\r\n",
        "Realitzarem un primer experiment amb NN intentant classificar el dataset *MNIST* està format per imatges de caràcters escrits a ma i la seva etiqueta és el número que representen.\r\n",
        "\r\n",
        "El primer que realitzam és la importació dels paquets necessaris de Keras."
      ]
    },
    {
      "cell_type": "code",
      "metadata": {
        "id": "u1uETBCPLqpn"
      },
      "source": [
        "from keras import layers, models\r\n",
        "from keras.datasets import mnist\r\n",
        "from keras.utils import to_categorical\r\n",
        "\r\n",
        "from matplotlib import pyplot as plt"
      ],
      "execution_count": null,
      "outputs": []
    },
    {
      "cell_type": "markdown",
      "metadata": {
        "id": "tVAzwHmL10YA"
      },
      "source": [
        "Posterioment cream un el model. Per fer-ho empram l'opció *sequential* que construeix una xarxa com una continum de capes."
      ]
    },
    {
      "cell_type": "code",
      "metadata": {
        "id": "MWqUa-2eMGMT"
      },
      "source": [
        "model = models.Sequential()"
      ],
      "execution_count": null,
      "outputs": []
    },
    {
      "cell_type": "markdown",
      "metadata": {
        "id": "IGJ_Yhak2NTe"
      },
      "source": [
        "Afegim capes, en aquest moment només n'afegim de convolucionals i de pooling. Definim la mida de l'entrada. Mostram el resultat de la xarxa al final. "
      ]
    },
    {
      "cell_type": "code",
      "metadata": {
        "colab": {
          "base_uri": "https://localhost:8080/"
        },
        "id": "V9kdFdT-2MKX",
        "outputId": "59bf3bd2-59d1-47c9-ea6e-c04cbeb6ac40"
      },
      "source": [
        "model.add(layers.Conv2D(32, (3, 3), activation='relu', input_shape=(28,28,1)))\r\n",
        "model.add(layers.MaxPooling2D((2,2)))\r\n",
        "model.add(layers.Conv2D(64, (3, 3), activation='relu'))\r\n",
        "model.add(layers.MaxPooling2D((2, 2)))\r\n",
        "model.add(layers.Conv2D(64, (3, 3), activation='relu'))\r\n",
        "\r\n",
        "\r\n",
        "model.summary()"
      ],
      "execution_count": null,
      "outputs": [
        {
          "output_type": "stream",
          "text": [
            "Model: \"sequential\"\n",
            "_________________________________________________________________\n",
            "Layer (type)                 Output Shape              Param #   \n",
            "=================================================================\n",
            "conv2d (Conv2D)              (None, 26, 26, 32)        320       \n",
            "_________________________________________________________________\n",
            "max_pooling2d (MaxPooling2D) (None, 13, 13, 32)        0         \n",
            "_________________________________________________________________\n",
            "conv2d_1 (Conv2D)            (None, 11, 11, 64)        18496     \n",
            "_________________________________________________________________\n",
            "max_pooling2d_1 (MaxPooling2 (None, 5, 5, 64)          0         \n",
            "_________________________________________________________________\n",
            "conv2d_2 (Conv2D)            (None, 3, 3, 64)          36928     \n",
            "=================================================================\n",
            "Total params: 55,744\n",
            "Trainable params: 55,744\n",
            "Non-trainable params: 0\n",
            "_________________________________________________________________\n"
          ],
          "name": "stdout"
        }
      ]
    },
    {
      "cell_type": "markdown",
      "metadata": {
        "id": "_GT_zTX03lA1"
      },
      "source": [
        "En aquest moments suposam que la sortida de la darrera capa és un conjunt de característiques que permeten la identifcació, de manera més o manco simple, dels objectes de les imatges. \r\n",
        "\r\n",
        "Afegim dues capes *FCN* (conegudes també com a denses) com un classificador."
      ]
    },
    {
      "cell_type": "code",
      "metadata": {
        "colab": {
          "base_uri": "https://localhost:8080/"
        },
        "id": "FB3oTiNW4QGt",
        "outputId": "a728efd8-3194-44a8-a3c7-fb419b88ff60"
      },
      "source": [
        "model.add(layers.Flatten())\r\n",
        "model.add(layers.Dense(64, activation='relu'))\r\n",
        "model.add(layers.Dense(10, activation='softmax')) # 10 per que hi ha deu classes\r\n",
        "\r\n",
        "model.summary()"
      ],
      "execution_count": null,
      "outputs": [
        {
          "output_type": "stream",
          "text": [
            "Model: \"sequential\"\n",
            "_________________________________________________________________\n",
            "Layer (type)                 Output Shape              Param #   \n",
            "=================================================================\n",
            "conv2d (Conv2D)              (None, 26, 26, 32)        320       \n",
            "_________________________________________________________________\n",
            "max_pooling2d (MaxPooling2D) (None, 13, 13, 32)        0         \n",
            "_________________________________________________________________\n",
            "conv2d_1 (Conv2D)            (None, 11, 11, 64)        18496     \n",
            "_________________________________________________________________\n",
            "max_pooling2d_1 (MaxPooling2 (None, 5, 5, 64)          0         \n",
            "_________________________________________________________________\n",
            "conv2d_2 (Conv2D)            (None, 3, 3, 64)          36928     \n",
            "_________________________________________________________________\n",
            "flatten (Flatten)            (None, 576)               0         \n",
            "_________________________________________________________________\n",
            "dense (Dense)                (None, 64)                36928     \n",
            "_________________________________________________________________\n",
            "dense_1 (Dense)              (None, 10)                650       \n",
            "=================================================================\n",
            "Total params: 93,322\n",
            "Trainable params: 93,322\n",
            "Non-trainable params: 0\n",
            "_________________________________________________________________\n"
          ],
          "name": "stdout"
        }
      ]
    },
    {
      "cell_type": "markdown",
      "metadata": {
        "id": "qv0GC2dc4j19"
      },
      "source": [
        "### Preparam les dades\r\n",
        "\r\n",
        "Per poder entrenar la xarxa necessitam les dades en la forma que hem indicat abans a la xarxa. *Keras* inclou MNIST com a part de la llibreria. "
      ]
    },
    {
      "cell_type": "code",
      "metadata": {
        "colab": {
          "base_uri": "https://localhost:8080/"
        },
        "id": "D2tua0GG4jjh",
        "outputId": "d15a8814-c764-4bc8-9a7e-85c2255a01be"
      },
      "source": [
        "(train_images, train_labels), (test_images, test_labels) = mnist.load_data()"
      ],
      "execution_count": null,
      "outputs": [
        {
          "output_type": "stream",
          "text": [
            "Downloading data from https://storage.googleapis.com/tensorflow/tf-keras-datasets/mnist.npz\n",
            "11493376/11490434 [==============================] - 0s 0us/step\n"
          ],
          "name": "stdout"
        }
      ]
    },
    {
      "cell_type": "code",
      "metadata": {
        "colab": {
          "base_uri": "https://localhost:8080/"
        },
        "id": "EnaYuziy5uWq",
        "outputId": "c725815c-4274-494e-9075-0d340368fbd4"
      },
      "source": [
        "train_images.shape"
      ],
      "execution_count": null,
      "outputs": [
        {
          "output_type": "execute_result",
          "data": {
            "text/plain": [
              "(60000, 28, 28)"
            ]
          },
          "metadata": {
            "tags": []
          },
          "execution_count": 6
        }
      ]
    },
    {
      "cell_type": "code",
      "metadata": {
        "colab": {
          "base_uri": "https://localhost:8080/"
        },
        "id": "6Slp0ADigBZh",
        "outputId": "16911945-ce58-4e3f-d728-3557aca0b897"
      },
      "source": [
        "train_labels[0]"
      ],
      "execution_count": null,
      "outputs": [
        {
          "output_type": "execute_result",
          "data": {
            "text/plain": [
              "5"
            ]
          },
          "metadata": {
            "tags": []
          },
          "execution_count": 7
        }
      ]
    },
    {
      "cell_type": "markdown",
      "metadata": {
        "id": "DIimD7Mz509i"
      },
      "source": [
        "Afegim una dimensió per tal que funciona com a *batch*."
      ]
    },
    {
      "cell_type": "code",
      "metadata": {
        "id": "U55V8cXt50Xz"
      },
      "source": [
        "train_images = train_images.reshape((-1, 28, 28, 1))\r\n",
        "test_images = test_images.reshape((-1, 28, 28, 1))"
      ],
      "execution_count": null,
      "outputs": []
    },
    {
      "cell_type": "markdown",
      "metadata": {
        "id": "76YfMb9k6GIf"
      },
      "source": [
        "Converim les etiquetes de numèriques a categòriques"
      ]
    },
    {
      "cell_type": "code",
      "metadata": {
        "colab": {
          "base_uri": "https://localhost:8080/"
        },
        "id": "bsF14N6c6RWz",
        "outputId": "da10a9bc-15e2-48dd-a468-d381dd9ac27e"
      },
      "source": [
        "print(train_labels[0])\r\n",
        "print(to_categorical(train_labels)[0])"
      ],
      "execution_count": null,
      "outputs": [
        {
          "output_type": "stream",
          "text": [
            "5\n",
            "[0. 0. 0. 0. 0. 1. 0. 0. 0. 0.]\n"
          ],
          "name": "stdout"
        }
      ]
    },
    {
      "cell_type": "code",
      "metadata": {
        "id": "lboOfOv86MES"
      },
      "source": [
        "train_labels = to_categorical(train_labels)\r\n",
        "test_labels = to_categorical(test_labels)"
      ],
      "execution_count": null,
      "outputs": []
    },
    {
      "cell_type": "markdown",
      "metadata": {
        "id": "KTL9_2fu7YIi"
      },
      "source": [
        "### Entrenam la xarxa\r\n",
        "\r\n",
        "Per entrenar la xarxa empram les imatges d'entrenament i les seves etiquetes."
      ]
    },
    {
      "cell_type": "code",
      "metadata": {
        "colab": {
          "base_uri": "https://localhost:8080/"
        },
        "id": "pZWXJLmg7Xg5",
        "outputId": "f2e87ff6-f734-4c4d-9284-dfae1a23d5e4"
      },
      "source": [
        "model.compile(loss='categorical_crossentropy', metrics = ['accuracy'])\r\n",
        "model.fit(train_images, train_labels, epochs=5, batch_size=64)"
      ],
      "execution_count": null,
      "outputs": [
        {
          "output_type": "stream",
          "text": [
            "Epoch 1/5\n",
            "938/938 [==============================] - 4s 4ms/step - loss: 0.3570 - accuracy: 0.9383\n",
            "Epoch 2/5\n",
            " 14/938 [..............................] - ETA: 3s - loss: 0.0547 - accuracy: 0.9810"
          ],
          "name": "stdout"
        }
      ]
    },
    {
      "cell_type": "markdown",
      "metadata": {
        "id": "PhM0Pjgx8GTB"
      },
      "source": [
        "### Test resultats\r\n",
        "\r\n",
        "Per comprovar si els resultats són correctes empram les imatges de test"
      ]
    },
    {
      "cell_type": "code",
      "metadata": {
        "id": "FmlKx5Z78Pec"
      },
      "source": [
        "test_loss, test_acc = model.evaluate(test_images, test_labels)\r\n",
        "test_acc"
      ],
      "execution_count": null,
      "outputs": []
    },
    {
      "cell_type": "code",
      "metadata": {
        "id": "KoouM17I_Hqz"
      },
      "source": [
        "print(model.predict(test_images[0].reshape((-1, 28, 28, 1))))\r\n",
        "plt.imshow(test_images[0][:,:,0]);"
      ],
      "execution_count": null,
      "outputs": []
    }
  ]
}